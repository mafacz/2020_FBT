{
 "cells": [
  {
   "cell_type": "code",
   "execution_count": 1,
   "metadata": {
    "ExecuteTime": {
     "end_time": "2022-02-25T11:45:58.623694Z",
     "start_time": "2022-02-25T11:45:44.577278Z"
    }
   },
   "outputs": [],
   "source": [
    "import pandas as pd\n",
    "import numpy as np\n",
    "import os\n",
    "import math\n",
    "import sys\n",
    "from datetime import datetime\n",
    "import pdb\n",
    "import argparse\n",
    "import random\n",
    "\n",
    "import matplotlib.pyplot as plt\n",
    "import seaborn as sns\n",
    "\n",
    "from pyspark.sql import functions as sf\n",
    "\n",
    "sys.path.append('/cluster/home/faltysm/source/2020_VolumeChallenge/common')\n",
    "from spark_common import get_spark_session\n",
    "from spark_common import get_included_subset"
   ]
  },
  {
   "cell_type": "code",
   "execution_count": 49,
   "metadata": {
    "ExecuteTime": {
     "end_time": "2022-02-25T14:11:18.736456Z",
     "start_time": "2022-02-25T14:11:18.725954Z"
    }
   },
   "outputs": [],
   "source": [
    "VC_PATH=\"/cluster/work/grlab/clinical/hirid2/research/faltysm/volume_challenge/patient_stay/2020-11-12\"\n",
    "BOLUS_PATH=\"/cluster/work/grlab/clinical/hirid2/research/faltysm/volume_challenge/gap_closed/bolus/2020-12-05\"\n",
    "ISOBOLUS_PATH=\"/cluster/work/grlab/clinical/hirid2/research/faltysm/volume_challenge/gap_closed/bolus_isolated/2020-12-05/augmented/2020-12-05\"\n",
    "HIRID2_PATH=\"/cluster/work/grlab/clinical/hirid2/pg_db_export/p_generaldata\"\n",
    "MEASUREMENTS_PATH=\"/cluster/work/grlab/clinical/hirid2/research/faltysm/volume_challenge/gap_closed/measurements_around_bolus/2020-12-05\"\n",
    "CONTROL_MEASUREMENTS_PATH=\"/cluster/work/grlab/clinical/hirid2/research/faltysm/volume_challenge/gap_closed/measurements_around_non_bolus/2020-12-05\"\n",
    "NONBOLUS_PATH=\"/cluster/work/grlab/clinical/hirid2/research/faltysm/volume_challenge/gap_closed/non_bolus/2020-12-05/augmented/2020-12-05\"\n",
    "STATIC_PATH='/cluster/work/grlab/clinical/hirid2/research/1a_hdf5_clean/v8/static.h5'\n",
    "\n",
    "spark = get_spark_session(8, 1024, 64)"
   ]
  },
  {
   "cell_type": "markdown",
   "metadata": {},
   "source": [
    "<h2>Statistics from Data preprocessing (external)</h2>\n",
    "Consenting patients admitted after 08: 60559<br>\n",
    "Consenting patients admitted after 08, aged within [16,100]: 60504 (only these are included in the static file)"
   ]
  },
  {
   "cell_type": "code",
   "execution_count": 50,
   "metadata": {
    "ExecuteTime": {
     "end_time": "2022-02-25T14:11:19.889200Z",
     "start_time": "2022-02-25T14:11:19.646550Z"
    }
   },
   "outputs": [],
   "source": [
    "ENDPOINT = \"cardiac\"\n",
    "\n",
    "count_adm_after2008 = spark.read.parquet(HIRID2_PATH).where('YEAR(admissiontime) >= 2008').count()\n",
    "count_gc_adm_after2008 = 60559  #from xinrui exclusion\n",
    "vc_data_all = spark.read.parquet(VC_PATH)\n",
    "\n",
    "#subset patients to study group\n",
    "if ENDPOINT == \"cardiac\":\n",
    "    vc_data = vc_data_all.where(sf.col(\"adm_codeid\").isin({8699,8700,8701,9085,9086,9087,9088,9089}))\n",
    "    PSM_FULL_PATH=\"/cluster/work/grlab/clinical/hirid2/research/faltysm/volume_challenge/gap_closed/psm_cardiac/2020-12-30\"\n"
   ]
  },
  {
   "cell_type": "code",
   "execution_count": 51,
   "metadata": {
    "ExecuteTime": {
     "end_time": "2022-02-25T14:11:20.869713Z",
     "start_time": "2022-02-25T14:11:20.119183Z"
    },
    "scrolled": true
   },
   "outputs": [
    {
     "name": "stdout",
     "output_type": "stream",
     "text": [
      "Total stays: 64491\n",
      "Excluded GC: 3932 (60559)\n",
      "Excluded Cohort: 52001 (8503)\n",
      "Excluded Age: 5\n",
      "Excluded missing HR: 0\n",
      "Excluded missing inv. BP: 2\n",
      "Excluded study drug: 2\n",
      "Excluded ecmo/impella: 54\n",
      "Total included stays: 8440\n",
      "Total excluded gc valid stays: 52119\n"
     ]
    }
   ],
   "source": [
    "print(f\"Total stays: {count_adm_after2008}\")\n",
    "print(f\"Excluded GC: {count_adm_after2008-count_gc_adm_after2008} ({count_gc_adm_after2008})\")\n",
    "print(f\"Excluded Cohort: {vc_data_all.count()-vc_data.count()} ({vc_data.count()})\")\n",
    "vc_data_age = vc_data.where('age_criterion=True')\n",
    "count_included = vc_data_age.where('invasive_hr_measurement_criterion=True and invasive_bp_measurement_criterion=True and age_criterion=True and study_drug_criterion=True and ecmo_criterion=True').count()\n",
    "print(f\"Excluded Age: {vc_data.where('age_criterion=False').count()}\")\n",
    "print(f\"Excluded missing HR: {vc_data_age.where('invasive_hr_measurement_criterion=False').count()}\")\n",
    "print(f\"Excluded missing inv. BP: {vc_data_age.where('invasive_bp_measurement_criterion=False').count()}\")\n",
    "print(f\"Excluded study drug: {vc_data_age.where('study_drug_criterion=False').count()}\")\n",
    "print(f\"Excluded ecmo/impella: {vc_data_age.where('ecmo_criterion=False').count()}\")\n",
    "print(f\"Total included stays: {count_included}\")\n",
    "print(f\"Total excluded gc valid stays: {count_gc_adm_after2008-count_included}\")"
   ]
  },
  {
   "cell_type": "code",
   "execution_count": 5,
   "metadata": {
    "ExecuteTime": {
     "end_time": "2021-07-21T16:51:21.149693Z",
     "start_time": "2021-07-21T16:51:18.832938Z"
    }
   },
   "outputs": [],
   "source": [
    "ds_bolus = spark.read.parquet(BOLUS_PATH)\n",
    "ds_isobolus = spark.read.parquet(ISOBOLUS_PATH)\n",
    "ds_nonbolus = spark.read.parquet(NONBOLUS_PATH)\n",
    "ds_measurements = spark.read.parquet(MEASUREMENTS_PATH)\n",
    "ds_control_measurements = spark.read.parquet(CONTROL_MEASUREMENTS_PATH)"
   ]
  },
  {
   "cell_type": "code",
   "execution_count": 6,
   "metadata": {
    "ExecuteTime": {
     "end_time": "2021-07-21T16:51:21.636414Z",
     "start_time": "2021-07-21T16:51:21.151553Z"
    }
   },
   "outputs": [],
   "source": [
    "#subset patients to study group\n",
    "if ENDPOINT == \"cardiac\":\n",
    "    ds_bolus = ds_bolus.join(vc_data, (ds_bolus.patientid == vc_data.patientid), how='left').drop(vc_data.patientid).where(sf.col(\"adm_codeid\").isin({8699,8700,8701,9085,9086,9087,9088,9089}))\n",
    "    ds_isobolus = ds_isobolus.join(ds_measurements, (ds_isobolus.patientid == ds_measurements.patientid) & (ds_isobolus.bolusid == ds_measurements.bolusid), how='left').drop(ds_measurements.patientid).drop(ds_measurements.bolusid).where(sf.col(\"adm_codeid_baseline\").isin({8699,8700,8701,9085,9086,9087,9088,9089}))\n",
    "    ds_nonbolus = ds_nonbolus.join(ds_control_measurements, (ds_nonbolus.patientid == ds_control_measurements.patientid) & (ds_nonbolus.bolusid == ds_control_measurements.bolusid), how='left').drop(ds_control_measurements.patientid).drop(ds_control_measurements.bolusid).where(sf.col(\"adm_codeid_baseline\").isin({8699,8700,8701,9085,9086,9087,9088,9089}))"
   ]
  },
  {
   "cell_type": "code",
   "execution_count": 7,
   "metadata": {
    "ExecuteTime": {
     "end_time": "2021-07-21T16:51:39.311910Z",
     "start_time": "2021-07-21T16:51:21.638223Z"
    }
   },
   "outputs": [
    {
     "name": "stdout",
     "output_type": "stream",
     "text": [
      "Patients count with iso/bolus: 5121/7301\n",
      "Bolus count: 26377\n",
      "Not isolated excluded: 17832\n",
      "Missing HR or MAP during bolus observation time: 1\n",
      "Bolus duration > 30min 3342\n",
      "Total boluses included: 5202\n",
      "From total patients: 3598\n",
      "Second or later Bolus excluded: 2326\n",
      "Total first boluses included: 2876\n",
      "===================non bolus============\n",
      "Patients count non bolus: 5019\n",
      "Total non boluses: 15369\n",
      "Missing HR or MAP during bolus observation time: 0\n",
      "Total non boluses > 30min: 5949\n",
      "Total non boluses included: 9420\n",
      "From total patients: 3520\n"
     ]
    }
   ],
   "source": [
    "print(f\"Patients count with iso/bolus: {ds_isobolus.select('patientid').distinct().count()}/{ds_bolus.select('patientid').distinct().count()}\")\n",
    "print(f\"Bolus count: {ds_bolus.count()}\")\n",
    "print(f\"Not isolated excluded: {ds_bolus.count() - ds_isobolus.count()}\")\n",
    "print(f\"Missing HR or MAP during bolus observation time: {ds_isobolus.where('vm1_criterion = 0 or vm5_criterion = 0').count()}\")\n",
    "print(f\"Bolus duration > 30min {ds_isobolus.where('vm1_criterion = 1 and vm5_criterion = 1').where('lenght>6').count()}\")\n",
    "print(f\"Total boluses included: {ds_isobolus.where('vm1_criterion = 1 and vm5_criterion = 1').where('lenght<=6').count()}\")\n",
    "print(f\"From total patients: {ds_isobolus.where('vm1_criterion = 1 and vm5_criterion = 1').where('lenght<=6').select('patientid').distinct().count()}\")\n",
    "print(f\"Second or later Bolus excluded: {ds_isobolus.where('vm1_criterion = 1 and vm5_criterion = 1').where('lenght<=6').where('bolusid>1').count()}\")\n",
    "print(f\"Total first boluses included: {ds_isobolus.where('vm1_criterion = 1 and vm5_criterion = 1').where('lenght<=6').where('bolusid=1').count()}\")\n",
    "print (\"===================non bolus============\")\n",
    "print(f\"Patients count non bolus: {ds_nonbolus.select('patientid').distinct().count()}\")\n",
    "print(f\"Total non boluses: {ds_nonbolus.count()}\")\n",
    "print(f\"Missing HR or MAP during bolus observation time: {ds_nonbolus.where('vm1_criterion = 0 or vm5_criterion = 0').count()}\")\n",
    "print(f\"Total non boluses > 30min: {ds_nonbolus.where('lenght>6').where('vm1_criterion = 1 or vm5_criterion = 1').count()}\")\n",
    "print(f\"Total non boluses included: {ds_nonbolus.where('lenght<=6').where('vm1_criterion = 1 and vm5_criterion = 1').count()}\")\n",
    "print(f\"From total patients: {ds_nonbolus.where('lenght<=6').where('vm1_criterion = 1 and vm5_criterion = 1').select('patientid').distinct().count()}\")"
   ]
  },
  {
   "cell_type": "code",
   "execution_count": 8,
   "metadata": {
    "ExecuteTime": {
     "end_time": "2021-07-21T16:51:39.461405Z",
     "start_time": "2021-07-21T16:51:39.313526Z"
    }
   },
   "outputs": [],
   "source": [
    "ds_psm = spark.read.parquet(PSM_FULL_PATH)"
   ]
  },
  {
   "cell_type": "code",
   "execution_count": 9,
   "metadata": {
    "ExecuteTime": {
     "end_time": "2021-07-21T16:51:40.431672Z",
     "start_time": "2021-07-21T16:51:39.464609Z"
    },
    "scrolled": true
   },
   "outputs": [
    {
     "name": "stdout",
     "output_type": "stream",
     "text": [
      "===================Full============\n",
      "Bolus count: 3572\n",
      "Bolus patient count: 2736\n",
      "non-Bolus count: 3572\n",
      "non-Bolus patient count: 2239\n"
     ]
    }
   ],
   "source": [
    "print (\"===================Full============\")\n",
    "print(f\"Bolus count: {ds_psm.where('bolus=1').count()}\")\n",
    "print(f\"Bolus patient count: {ds_psm.where('bolus=1').select('patientid').distinct().count()}\")\n",
    "print(f\"non-Bolus count: {ds_psm.where('bolus=0').count()}\")\n",
    "print(f\"non-Bolus patient count: {ds_psm.where('bolus=0').select('patientid').distinct().count()}\")"
   ]
  },
  {
   "cell_type": "code",
   "execution_count": null,
   "metadata": {},
   "outputs": [],
   "source": []
  }
 ],
 "metadata": {
  "kernelspec": {
   "display_name": "Python (ds_2020_volumechallenge)",
   "language": "python",
   "name": "ds_2020_volumechallenge"
  },
  "language_info": {
   "codemirror_mode": {
    "name": "ipython",
    "version": 3
   },
   "file_extension": ".py",
   "mimetype": "text/x-python",
   "name": "python",
   "nbconvert_exporter": "python",
   "pygments_lexer": "ipython3",
   "version": "3.8.5"
  }
 },
 "nbformat": 4,
 "nbformat_minor": 4
}
