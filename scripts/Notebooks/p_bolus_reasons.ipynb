{
 "cells": [
  {
   "cell_type": "code",
   "execution_count": 1,
   "id": "db1fdc13",
   "metadata": {
    "ExecuteTime": {
     "end_time": "2022-02-17T09:41:29.359918Z",
     "start_time": "2022-02-17T09:41:27.281914Z"
    }
   },
   "outputs": [],
   "source": [
    "import pandas as pd\n",
    "import matplotlib.pyplot as plt\n",
    "import seaborn as sns\n",
    "sns.set_theme()"
   ]
  },
  {
   "cell_type": "code",
   "execution_count": 2,
   "id": "ebbbde66",
   "metadata": {
    "ExecuteTime": {
     "end_time": "2022-02-17T09:41:29.400061Z",
     "start_time": "2022-02-17T09:41:29.362314Z"
    }
   },
   "outputs": [],
   "source": [
    "bolus_data = pd.read_csv('/cluster/home/faltysm/source/2020_VolumeChallenge/data/cohort_reasons_fb.csv')"
   ]
  },
  {
   "cell_type": "code",
   "execution_count": 3,
   "id": "6ffe4c90",
   "metadata": {
    "ExecuteTime": {
     "end_time": "2022-02-17T09:41:29.408947Z",
     "start_time": "2022-02-17T09:41:29.402042Z"
    }
   },
   "outputs": [
    {
     "data": {
      "text/plain": [
       "Index(['id', 'idtag', 'age', 'female', 'elective', 'diagnosisdetail',\n",
       "       'admdiagnosis', 'apache4', 'saps2', 'icuday_n', 'height', 'weight',\n",
       "       'DateTime', 'PreparationName', 'alive', 'r_lobp', 'r_louo', 'r_locvp',\n",
       "       'r_loci', 'r_hilac', 'r_hinor', 'r_hippv', 'r_losvo2', 'r_poorperf',\n",
       "       'r_other', 'r_fluidbalance', 'r_tachy', 'r_fever', 'fluid_ml', 'x',\n",
       "       'n_reasons'],\n",
       "      dtype='object')"
      ]
     },
     "execution_count": 3,
     "metadata": {},
     "output_type": "execute_result"
    }
   ],
   "source": [
    "bolus_data.columns"
   ]
  },
  {
   "cell_type": "code",
   "execution_count": 4,
   "id": "ac738de4",
   "metadata": {
    "ExecuteTime": {
     "end_time": "2022-02-17T09:41:29.417642Z",
     "start_time": "2022-02-17T09:41:29.411677Z"
    }
   },
   "outputs": [],
   "source": [
    "bolus_data = bolus_data[bolus_data.diagnosisdetail.isin([\"CABG + Doppelklappenchirurgie oder Klappen re-OP\", \"Herzklappenchirurgie (ohne CABG)\", \"CABG + Klappenchirurgie (einfach)\",\"CABG\"])]"
   ]
  },
  {
   "cell_type": "code",
   "execution_count": 5,
   "id": "76c5b0e3",
   "metadata": {
    "ExecuteTime": {
     "end_time": "2022-02-17T09:41:29.427618Z",
     "start_time": "2022-02-17T09:41:29.419912Z"
    }
   },
   "outputs": [],
   "source": [
    "bolus_data[\"fluid_gr\"] = pd.cut(bolus_data.fluid_ml, bins=[250,350,500], include_lowest=True)"
   ]
  },
  {
   "cell_type": "code",
   "execution_count": 6,
   "id": "9fab9d57",
   "metadata": {
    "ExecuteTime": {
     "end_time": "2022-02-17T09:41:29.524279Z",
     "start_time": "2022-02-17T09:41:29.508000Z"
    }
   },
   "outputs": [],
   "source": [
    "bolus_grouped = bolus_data.loc[bolus_data.n_reasons > 0,['r_lobp', 'r_louo', 'r_locvp',\n",
    "       'r_loci', 'r_hilac', 'r_hinor', 'r_hippv', 'r_losvo2', 'r_poorperf',\n",
    "       'r_other', 'r_fluidbalance', 'r_tachy', 'r_fever', 'fluid_gr']].groupby(\"fluid_gr\").sum()\n",
    "bolus_grouped[\"count\"] = bolus_data.loc[bolus_data.n_reasons > 0].groupby(\"fluid_gr\").count()[\"n_reasons\"]\n",
    "bolus_grouped[\"mean_ml\"] = bolus_data.loc[bolus_data.n_reasons > 0].groupby(\"fluid_gr\").fluid_ml.mean()"
   ]
  },
  {
   "cell_type": "code",
   "execution_count": 7,
   "id": "0fc1d7a2",
   "metadata": {
    "ExecuteTime": {
     "end_time": "2022-02-17T09:41:30.825104Z",
     "start_time": "2022-02-17T09:41:30.814594Z"
    }
   },
   "outputs": [],
   "source": [
    "bolus_perc = bolus_grouped.loc[:,['r_lobp', 'r_louo', 'r_locvp',\n",
    "       'r_loci', 'r_hilac', 'r_hinor', 'r_hippv', 'r_losvo2', 'r_poorperf',\n",
    "       'r_other', 'r_fluidbalance', 'r_tachy', 'r_fever']].div(bolus_grouped[\"count\"], axis=0)\n",
    "bolus_perc[\"count\"] = bolus_grouped[\"count\"]\n",
    "bolus_perc[\"avg_ml\"] = bolus_grouped[\"mean_ml\"]"
   ]
  },
  {
   "cell_type": "code",
   "execution_count": 8,
   "id": "af29fa6d",
   "metadata": {
    "ExecuteTime": {
     "end_time": "2022-02-17T09:41:31.816546Z",
     "start_time": "2022-02-17T09:41:31.444277Z"
    }
   },
   "outputs": [
    {
     "data": {
      "text/plain": [
       "<AxesSubplot:ylabel='fluid_gr'>"
      ]
     },
     "execution_count": 8,
     "metadata": {},
     "output_type": "execute_result"
    },
    {
     "data": {
      "image/png": "[encoded data removed]",
      "text/plain": [
       "<Figure size 432x288 with 2 Axes>"
      ]
     },
     "metadata": {},
     "output_type": "display_data"
    }
   ],
   "source": [
    "sns.heatmap(bolus_perc[['r_lobp', 'r_louo', 'r_locvp',\n",
    "       'r_loci', 'r_hilac', 'r_hinor', 'r_hippv', 'r_losvo2', 'r_poorperf',\n",
    "       'r_other', 'r_fluidbalance', 'r_tachy', 'r_fever']])"
   ]
  },
  {
   "cell_type": "code",
   "execution_count": 9,
   "id": "703b5ecb",
   "metadata": {
    "ExecuteTime": {
     "end_time": "2022-02-17T09:41:32.036810Z",
     "start_time": "2022-02-17T09:41:32.029264Z"
    }
   },
   "outputs": [
    {
     "name": "stdout",
     "output_type": "stream",
     "text": [
      "Patient count: 126\n"
     ]
    }
   ],
   "source": [
    "print(f\"Patient count: {len(bolus_data.loc[(bolus_data.fluid_ml>=250)].id.unique())}\")"
   ]
  },
  {
   "cell_type": "code",
   "execution_count": 10,
   "id": "c1296948",
   "metadata": {
    "ExecuteTime": {
     "end_time": "2022-02-17T09:41:33.485266Z",
     "start_time": "2022-02-17T09:41:33.468669Z"
    },
    "scrolled": true
   },
   "outputs": [
    {
     "name": "stdout",
     "output_type": "stream",
     "text": [
      "Total bolus count: 938\n",
      "Bolus without a reason: 195\n"
     ]
    }
   ],
   "source": [
    "print(f\"Total bolus count: {bolus_data.loc[(bolus_data.fluid_ml>=250)].count()['fluid_ml']}\")\n",
    "print(f\"Bolus without a reason: {bolus_data.loc[(bolus_data.n_reasons == 0) & (bolus_data.fluid_ml>=250)].count()['fluid_ml']}\")"
   ]
  },
  {
   "cell_type": "code",
   "execution_count": 11,
   "id": "e0ef363a",
   "metadata": {
    "ExecuteTime": {
     "end_time": "2022-02-17T09:41:34.300804Z",
     "start_time": "2022-02-17T09:41:34.280906Z"
    }
   },
   "outputs": [
    {
     "name": "stderr",
     "output_type": "stream",
     "text": [
      "/scratch/3947490.tmpdir/ipykernel_4203/354946501.py:1: FutureWarning: Dropping of nuisance columns in DataFrame reductions (with 'numeric_only=None') is deprecated; in a future version this will raise TypeError.  Select only valid columns before calling the reduction.\n",
      "  bolus_total_perc = bolus_data.loc[(bolus_data.fluid_ml>=250) & (bolus_data.n_reasons > 0),['r_lobp', 'r_louo', 'r_locvp',\n"
     ]
    }
   ],
   "source": [
    "bolus_total_perc = bolus_data.loc[(bolus_data.fluid_ml>=250) & (bolus_data.n_reasons > 0),['r_lobp', 'r_louo', 'r_locvp',\n",
    "       'r_loci', 'r_hilac', 'r_hinor', 'r_hippv', 'r_losvo2', 'r_poorperf',\n",
    "       'r_other', 'r_fluidbalance', 'r_tachy', 'r_fever', 'fluid_gr']].sum()/bolus_data.loc[(bolus_data.fluid_ml>=250) & (bolus_data.n_reasons > 0)].count()['fluid_ml']\n",
    "bolus_total_perc[\"count\"] = bolus_data.loc[(bolus_data.fluid_ml>=250) & (bolus_data.n_reasons > 0)].count()['fluid_ml']\n",
    "bolus_total_perc[\"avg_ml\"] = bolus_data.loc[(bolus_data.fluid_ml>=250) & (bolus_data.n_reasons > 0)][\"fluid_ml\"].mean()"
   ]
  },
  {
   "cell_type": "code",
   "execution_count": 12,
   "id": "a1a2164b",
   "metadata": {
    "ExecuteTime": {
     "end_time": "2022-02-17T09:41:35.550453Z",
     "start_time": "2022-02-17T09:41:35.541071Z"
    },
    "scrolled": true
   },
   "outputs": [],
   "source": [
    "table = pd.concat ([bolus_perc.transpose(), bolus_total_perc], axis=1) "
   ]
  },
  {
   "cell_type": "code",
   "execution_count": 15,
   "id": "d409d2ae",
   "metadata": {
    "ExecuteTime": {
     "end_time": "2022-02-17T09:46:02.064575Z",
     "start_time": "2022-02-17T09:46:02.055630Z"
    }
   },
   "outputs": [],
   "source": [
    "table.to_csv(\"bolus_reasons.csv\")"
   ]
  },
  {
   "cell_type": "code",
   "execution_count": 16,
   "id": "a0f4bea1",
   "metadata": {
    "ExecuteTime": {
     "end_time": "2022-02-17T09:46:03.829103Z",
     "start_time": "2022-02-17T09:46:03.812570Z"
    }
   },
   "outputs": [
    {
     "data": {
      "text/html": [
       "<div>\n",
       "<style scoped>\n",
       "    .dataframe tbody tr th:only-of-type {\n",
       "        vertical-align: middle;\n",
       "    }\n",
       "\n",
       "    .dataframe tbody tr th {\n",
       "        vertical-align: top;\n",
       "    }\n",
       "\n",
       "    .dataframe thead th {\n",
       "        text-align: right;\n",
       "    }\n",
       "</style>\n",
       "<table border=\"1\" class=\"dataframe\">\n",
       "  <thead>\n",
       "    <tr style=\"text-align: right;\">\n",
       "      <th></th>\n",
       "      <th>(249.999, 350.0]</th>\n",
       "      <th>(350.0, 500.0]</th>\n",
       "      <th>0</th>\n",
       "    </tr>\n",
       "  </thead>\n",
       "  <tbody>\n",
       "    <tr>\n",
       "      <th>r_lobp</th>\n",
       "      <td>0.879397</td>\n",
       "      <td>0.863768</td>\n",
       "      <td>0.872140</td>\n",
       "    </tr>\n",
       "    <tr>\n",
       "      <th>r_louo</th>\n",
       "      <td>0.017588</td>\n",
       "      <td>0.031884</td>\n",
       "      <td>0.024226</td>\n",
       "    </tr>\n",
       "    <tr>\n",
       "      <th>r_locvp</th>\n",
       "      <td>0.195980</td>\n",
       "      <td>0.136232</td>\n",
       "      <td>0.168237</td>\n",
       "    </tr>\n",
       "    <tr>\n",
       "      <th>r_loci</th>\n",
       "      <td>0.032663</td>\n",
       "      <td>0.028986</td>\n",
       "      <td>0.030956</td>\n",
       "    </tr>\n",
       "    <tr>\n",
       "      <th>r_hilac</th>\n",
       "      <td>0.072864</td>\n",
       "      <td>0.121739</td>\n",
       "      <td>0.095559</td>\n",
       "    </tr>\n",
       "    <tr>\n",
       "      <th>r_hinor</th>\n",
       "      <td>0.007538</td>\n",
       "      <td>0.008696</td>\n",
       "      <td>0.008075</td>\n",
       "    </tr>\n",
       "    <tr>\n",
       "      <th>r_hippv</th>\n",
       "      <td>0.002513</td>\n",
       "      <td>0.000000</td>\n",
       "      <td>0.001346</td>\n",
       "    </tr>\n",
       "    <tr>\n",
       "      <th>r_losvo2</th>\n",
       "      <td>0.020101</td>\n",
       "      <td>0.005797</td>\n",
       "      <td>0.013459</td>\n",
       "    </tr>\n",
       "    <tr>\n",
       "      <th>r_poorperf</th>\n",
       "      <td>0.195980</td>\n",
       "      <td>0.275362</td>\n",
       "      <td>0.232840</td>\n",
       "    </tr>\n",
       "    <tr>\n",
       "      <th>r_other</th>\n",
       "      <td>0.012563</td>\n",
       "      <td>0.005797</td>\n",
       "      <td>0.009421</td>\n",
       "    </tr>\n",
       "    <tr>\n",
       "      <th>r_fluidbalance</th>\n",
       "      <td>0.000000</td>\n",
       "      <td>0.000000</td>\n",
       "      <td>0.000000</td>\n",
       "    </tr>\n",
       "    <tr>\n",
       "      <th>r_tachy</th>\n",
       "      <td>0.012563</td>\n",
       "      <td>0.002899</td>\n",
       "      <td>0.008075</td>\n",
       "    </tr>\n",
       "    <tr>\n",
       "      <th>r_fever</th>\n",
       "      <td>0.000000</td>\n",
       "      <td>0.000000</td>\n",
       "      <td>0.000000</td>\n",
       "    </tr>\n",
       "    <tr>\n",
       "      <th>count</th>\n",
       "      <td>398.000000</td>\n",
       "      <td>345.000000</td>\n",
       "      <td>743.000000</td>\n",
       "    </tr>\n",
       "    <tr>\n",
       "      <th>avg_ml</th>\n",
       "      <td>270.095477</td>\n",
       "      <td>484.405797</td>\n",
       "      <td>369.606999</td>\n",
       "    </tr>\n",
       "  </tbody>\n",
       "</table>\n",
       "</div>"
      ],
      "text/plain": [
       "                (249.999, 350.0]  (350.0, 500.0]           0\n",
       "r_lobp                  0.879397        0.863768    0.872140\n",
       "r_louo                  0.017588        0.031884    0.024226\n",
       "r_locvp                 0.195980        0.136232    0.168237\n",
       "r_loci                  0.032663        0.028986    0.030956\n",
       "r_hilac                 0.072864        0.121739    0.095559\n",
       "r_hinor                 0.007538        0.008696    0.008075\n",
       "r_hippv                 0.002513        0.000000    0.001346\n",
       "r_losvo2                0.020101        0.005797    0.013459\n",
       "r_poorperf              0.195980        0.275362    0.232840\n",
       "r_other                 0.012563        0.005797    0.009421\n",
       "r_fluidbalance          0.000000        0.000000    0.000000\n",
       "r_tachy                 0.012563        0.002899    0.008075\n",
       "r_fever                 0.000000        0.000000    0.000000\n",
       "count                 398.000000      345.000000  743.000000\n",
       "avg_ml                270.095477      484.405797  369.606999"
      ]
     },
     "execution_count": 16,
     "metadata": {},
     "output_type": "execute_result"
    }
   ],
   "source": [
    "table"
   ]
  },
  {
   "cell_type": "code",
   "execution_count": null,
   "id": "e0ad0a91",
   "metadata": {},
   "outputs": [],
   "source": []
  },
  {
   "cell_type": "code",
   "execution_count": null,
   "id": "5ad3e4f6",
   "metadata": {},
   "outputs": [],
   "source": []
  }
 ],
 "metadata": {
  "kernelspec": {
   "display_name": "Python (ds_p38_base)",
   "language": "python",
   "name": "ds_p38_base"
  },
  "language_info": {
   "codemirror_mode": {
    "name": "ipython",
    "version": 3
   },
   "file_extension": ".py",
   "mimetype": "text/x-python",
   "name": "python",
   "nbconvert_exporter": "python",
   "pygments_lexer": "ipython3",
   "version": "3.8.12"
  }
 },
 "nbformat": 4,
 "nbformat_minor": 5
}
